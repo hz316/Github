{
  "nbformat": 4,
  "nbformat_minor": 0,
  "metadata": {
    "colab": {
      "name": "Copy of Copy of Copy of Excode_Lesson_1.ipynb",
      "provenance": [],
      "collapsed_sections": [],
      "toc_visible": true,
      "include_colab_link": true
    },
    "kernelspec": {
      "name": "python3",
      "display_name": "Python 3"
    }
  },
  "cells": [
    {
      "cell_type": "markdown",
      "metadata": {
        "id": "view-in-github",
        "colab_type": "text"
      },
      "source": [
        "<a href=\"https://colab.research.google.com/github/hz316/Github/blob/main/Copy_of_Copy_of_Copy_of_Excode_Lesson_1.ipynb\" target=\"_parent\"><img src=\"https://colab.research.google.com/assets/colab-badge.svg\" alt=\"Open In Colab\"/></a>"
      ]
    },
    {
      "cell_type": "markdown",
      "metadata": {
        "id": "Y1Vx8goc-h3i"
      },
      "source": [
        "\n",
        "# ExCode Python 1\n",
        "\n",
        "\n",
        "\n",
        "**ExCode is run by X-AI and Entrepeneurs Society**\n",
        "\n",
        "---\n",
        "[X-AI Facebook](https://www.facebook.com/exeAI)\n",
        "\n",
        "[X-AI Sign-Up](https://fixr.co/organiser/83306494)\n",
        "\n",
        "---\n",
        "\n",
        "[Entrepeneurs Society Facebook](https://www.facebook.com/ExeterEntrepreneurs)\n",
        "\n",
        "\n",
        "[Entrepeneurs Society Sign-Up](https://www.exeterguild.org/societies/exeterentrepreneurs/)\n",
        "\n",
        "---\n"
      ]
    },
    {
      "cell_type": "markdown",
      "metadata": {
        "id": "8s8CXMMS-pJP"
      },
      "source": [
        "**Overview**\n",
        "\n",
        "* What is programming and why Python?\n",
        "* Outputting to screen\n",
        "* Variables\n",
        "* Manipulating variables\n",
        "* Casting Variables\n",
        "* Making your own programs\n",
        "\n",
        "\n",
        "\n",
        "\n"
      ]
    },
    {
      "cell_type": "markdown",
      "metadata": {
        "id": "993MIjN4Aak6"
      },
      "source": [
        "# What is programming and why Python?\n",
        "\n",
        "**Wikipedia Definition:** *Computer programming is the process of designing and building executable programs to accomplish a specific computing result.*\n",
        "\n",
        "\n",
        "**More Simply:** *Computer programming is giving instructions to a computer in order to complete a task.*\n",
        "\n",
        "**Why Python?:** \n",
        "* Python is extremely flexible.\n",
        "* Python is very employable.\n",
        "* It's extremely accessible to new programmers.\n",
        "\n",
        "**How Python Works:**\n",
        "1.   The interpreter checks the code line by line for errors, if it encounters an error it halts.\n",
        "2.   If there are no errors the interpretater translates python into a byte language. \n",
        "3.   The byte code is then executed on a virtual machine and the program is run. \n",
        "\n",
        " \n",
        "\n",
        "\n",
        "\n",
        "\n",
        "\n",
        "\n",
        "\n",
        "\n"
      ]
    },
    {
      "cell_type": "markdown",
      "metadata": {
        "id": "BH077NlTA_L1"
      },
      "source": [
        "# Outputting to Screen\n",
        "\n",
        "Programming languages follow a set of rules that tell us how code must be written in order for the computer to understand us. This is the **syntax** of a programming language. The **syntax** must be followed perfectly for a program to execute.\n",
        "\n",
        "For Example:"
      ]
    },
    {
      "cell_type": "code",
      "metadata": {
        "id": "1GyVwhRtFIyo"
      },
      "source": [
        "print(\"This should be printed onto the screen.\")\n",
        "print(\"This should be printed on line 2. \\nAnd this on line 3.\")  #Use \\n to start a new line.\n",
        "# Anything on a line following a hashtag is a comment and will not be run by the interpreter"
      ],
      "execution_count": null,
      "outputs": []
    },
    {
      "cell_type": "markdown",
      "metadata": {
        "id": "nEJdMtTvM61Q"
      },
      "source": [
        "# Variables\n",
        "\n",
        "Variables are simply containers that hold data values. These containers can be accessed to interact with the values within.\n",
        "\n",
        "Variables must be one word and cannnot use keywords such as **print**. You can use  **_**  underscore in variable names instead of spaces."
      ]
    },
    {
      "cell_type": "code",
      "metadata": {
        "id": "P0feGV59Noi_"
      },
      "source": [
        "university_name = \"Exeter\"  #Creating a variable\n",
        "\n",
        "print(\"I attend \" + university_name + \" University\")  #Putting a variable inside a print statement\n",
        "\n",
        "university_name = \"Bath\"   #Editing a variable\n",
        "\n",
        "print(\"I changed my university to \" + university_name + \" University\" )"
      ],
      "execution_count": null,
      "outputs": []
    },
    {
      "cell_type": "markdown",
      "metadata": {
        "id": "Nha0Q7Q8RZjX"
      },
      "source": [
        "**There are different types of variables that hold different types of data.**\n",
        "\n",
        "**Integers** are whole numbers e.g. 42, 10, 5\n",
        "\n",
        "**Floats** are numbers with a decimal point e.g 5.45, 1.25, 10.0\n",
        "\n",
        "**Boolean** values are either true or false e.g. False, True\n",
        "\n",
        "**String** values are lines of text e.g. \"This is a string\""
      ]
    },
    {
      "cell_type": "code",
      "metadata": {
        "id": "gIa5Sr6DRkw-"
      },
      "source": [
        "no_students = 37              #Integer variable\n",
        "percentage = 0.56424          #Float variable\n",
        "answer = False                #Boolean variable\n",
        "another_answer = True         #Boolean variable\n",
        "greeting = \"Good Evening\"     #String Variable\n",
        "\n",
        "print(\"The integer value:\", no_students)\n",
        "print(\"The float value:\", percentage)\n",
        "print(\"The false boolean value:\", answer)\n",
        "print(\"The true boolean value:\", another_answer)\n",
        "print(\"The string value: \" + greeting)    #Note how printing floats and any other variable types differ"
      ],
      "execution_count": null,
      "outputs": []
    },
    {
      "cell_type": "markdown",
      "metadata": {
        "id": "571Vw2qFUeLJ"
      },
      "source": [
        "# Manipulating Variables\n",
        "\n",
        "All variable types can be manipulated in some way or another using operators or mathematical symbols.\n"
      ]
    },
    {
      "cell_type": "code",
      "metadata": {
        "id": "UeFF2MNHVWz2"
      },
      "source": [
        "first_no = 52 + 3               #Addition\n",
        "second_no = first_no * 2        #Multiplication\n",
        "third_no = second_no / 4        #Division\n",
        "\n",
        "first_word = \"Hello \"\n",
        "second_word = \"World!\"\n",
        "sentence = first_word + second_word     #Addition of strings\n",
        "\n",
        "fourth = 55.5\n",
        "fourth = fourth - 2             #It is possible to use operators on existing variables.\n",
        "\n",
        "fifth = (55 + 56.7 + 76.5 + 88) / 5   #Multiple operators can be used at once.\n",
        "\n",
        "print(\"first_no =\", first_no)\n",
        "print(\"second_no =\", second_no)\n",
        "print(\"third_no =\", third_no)\n",
        "print(\"sentence =\", sentence)\n",
        "print(\"fourth =\", fourth)\n",
        "print(\"fifth =\", fifth)"
      ],
      "execution_count": null,
      "outputs": []
    },
    {
      "cell_type": "markdown",
      "metadata": {
        "id": "Axl8CC5QogLV"
      },
      "source": [
        "# Casting\n",
        "\n",
        "Sometimes you will want variables of different types to interact with one another. You can **cast** a variable from one type to another to help them interact."
      ]
    },
    {
      "cell_type": "code",
      "metadata": {
        "id": "R-mGNfvkoxrb"
      },
      "source": [
        "int_example = int(8.65)     #This casts from a float to an integer, it round down, i.e. this equals 8\n",
        "float_example = float(56)   #This casts to a float\n",
        "string_example = str(8.65)  #This casts to a string\n",
        "\n",
        "final_example = int(8.65 + 6.56 + float(\"6.56\"))  #You can cast multiple things"
      ],
      "execution_count": null,
      "outputs": []
    },
    {
      "cell_type": "markdown",
      "metadata": {
        "id": "yTbftc85vuZT"
      },
      "source": [
        "# Build your own Progams\n",
        "\n",
        "Now to write your own programs. Below each question there will be a box in which to write your Python code. Once you have created the program, click the play button at the top left of the box to run it."
      ]
    },
    {
      "cell_type": "markdown",
      "metadata": {
        "id": "c15hVW4O1_6u"
      },
      "source": [
        "1.) \n",
        "\n",
        "Print out the sentence \"**This is how I print something on the screen**\"."
      ]
    },
    {
      "cell_type": "code",
      "metadata": {
        "id": "FxukVkLL2UHZ",
        "colab": {
          "base_uri": "https://localhost:8080/"
        },
        "outputId": "c285d46f-742e-4b11-8645-cff1874c728a"
      },
      "source": [
        "print(\"This is how I print something on the screen\")\n",
        "\n"
      ],
      "execution_count": null,
      "outputs": [
        {
          "output_type": "stream",
          "name": "stdout",
          "text": [
            "This is how I print something on the screen\n"
          ]
        }
      ]
    },
    {
      "cell_type": "markdown",
      "metadata": {
        "id": "tSTDbkQH2Wlv"
      },
      "source": [
        "2.)\n",
        "\n",
        "Create a variable called **university_name** and give it the value **\"Exeter\"** as a **string** type.\n",
        "\n",
        "Create a variable called **age** where you put your age as an **integer** type. \n",
        "\n",
        "Now print out a short sentence about yourself with these two variables inside. (Remember that **string** and **integer** types are printed slightly differently)"
      ]
    },
    {
      "cell_type": "code",
      "metadata": {
        "id": "_8lJ1eKb2WEP",
        "colab": {
          "base_uri": "https://localhost:8080/"
        },
        "outputId": "ab313666-80cb-47e3-b3a4-6908f20fdaeb"
      },
      "source": [
        "university_name = \"Exeter\"\n",
        "age = 90\n",
        "print(university_name, \"is\", age, \"years old\")\n",
        "\n",
        "\n",
        "\n"
      ],
      "execution_count": null,
      "outputs": [
        {
          "output_type": "stream",
          "name": "stdout",
          "text": [
            "Exeter is 90 years old\n"
          ]
        }
      ]
    },
    {
      "cell_type": "markdown",
      "metadata": {
        "id": "KBL_QJpmwqcW"
      },
      "source": [
        "3.)\n",
        "\n",
        "Create a variable called **number_a** which should be an **integer** and hold the number 16.\n",
        "\n",
        "Create another variable called **number_b** which should be an **integer** and hold the number 4.\n",
        "\n",
        "Multiply these two variables and assign the result to a variable called **number_c**. \n",
        "\n",
        "Print out **number_c**.\n"
      ]
    },
    {
      "cell_type": "code",
      "metadata": {
        "id": "YLbYbGEuf_-y",
        "colab": {
          "base_uri": "https://localhost:8080/"
        },
        "outputId": "952fea3d-8558-46cf-a3ea-9006c034634a"
      },
      "source": [
        "\n",
        "number_a = 16\n",
        "number_b = 4\n",
        "number_c = number_a * number_b\n",
        "print(number_c)\n",
        "\n",
        "\n"
      ],
      "execution_count": null,
      "outputs": [
        {
          "output_type": "stream",
          "name": "stdout",
          "text": [
            "64\n"
          ]
        }
      ]
    },
    {
      "cell_type": "markdown",
      "metadata": {
        "id": "8tj_3C8eTaQK"
      },
      "source": [
        "4.)\n",
        "\n",
        "Create a variable called **name** that holds your name as a **string**.\n",
        "\n",
        "Create a variable called **height** which holds your height in centimetres as an **integer**. \n",
        "\n",
        "Finally, create a variable called **height_inch**, it should be created using **height** and should hold your height in inches (2.54 centimetres is 1 inch).\n",
        "\n",
        "Print out the following sentence as a description of yourself, using the variables you have created:\n",
        "\n",
        "*My name is* **name**. *My height is* **height** *cm and my height in inches is* **height_inch**. \n",
        "\n"
      ]
    },
    {
      "cell_type": "code",
      "metadata": {
        "id": "eFwInNcRUUO_",
        "colab": {
          "base_uri": "https://localhost:8080/"
        },
        "outputId": "3c13398c-48c2-4b1e-d0d0-ae49770010d9"
      },
      "source": [
        "\n",
        "name = \"Holly\"\n",
        "height = 160\n",
        "height_inch = height/2.54\n",
        "print (\"My name is\", name, \"My height is\", height, \"cm\", \"and my height in inches is\", height_inch)\n",
        "\n"
      ],
      "execution_count": null,
      "outputs": [
        {
          "output_type": "stream",
          "name": "stdout",
          "text": [
            "My name is Holly My height is 160 cm and my height in inches is 62.99212598425197\n"
          ]
        }
      ]
    },
    {
      "cell_type": "markdown",
      "metadata": {
        "id": "jA3wwBk3gBEb"
      },
      "source": [
        "\n",
        "5.) \n",
        "\n",
        "Create a variable to hold a **float** with the value **3.56**.\n",
        "\n",
        "Create a **string** variable to hold the value **\"2\"**.\n",
        "\n",
        "Print out the **float** result of multiplying these two variables. (Remember you will have to cast the string to a float)\n",
        "\n",
        "Now print out the **integer** result of multiplying these two variables.\n"
      ]
    },
    {
      "cell_type": "code",
      "metadata": {
        "id": "-oaJkRSPqo_s",
        "colab": {
          "base_uri": "https://localhost:8080/"
        },
        "outputId": "1c0f3039-83e2-47b5-c054-5e6c9caeb4d3"
      },
      "source": [
        "\n",
        "float_example = 3.56\n",
        "string_example = \"2\"\n",
        "result = float_example * float(string_example)\n",
        "print (result)\n",
        "print (int(result))\n",
        "print (float_example)\n",
        "\n",
        "\n",
        "\n",
        "\n",
        "\n"
      ],
      "execution_count": null,
      "outputs": [
        {
          "output_type": "stream",
          "name": "stdout",
          "text": [
            "7.12\n",
            "7\n",
            "3.56\n"
          ]
        }
      ]
    },
    {
      "cell_type": "markdown",
      "metadata": {
        "id": "yn7DOlYnzPCq"
      },
      "source": [
        "6.) \n",
        "\n",
        "In the code below there are 5 premade variables. \n",
        "\n",
        "Find the average of all of these variables and assign it to a new variable called **val_average**.\n",
        "\n",
        "Print this average out.\n"
      ]
    },
    {
      "cell_type": "code",
      "metadata": {
        "id": "7nKa1L7l1h9j",
        "colab": {
          "base_uri": "https://localhost:8080/"
        },
        "outputId": "5b8868b0-bc0d-473d-da23-4d9dced050e7"
      },
      "source": [
        "val_I = \"65.7\"  #Casting might come in useful in this question.\n",
        "val_II = 2\n",
        "val_III = 43.2\n",
        "val_IV = \"23\"\n",
        "val_V = 0.0\n",
        "\n",
        "\n",
        "print((float(val_I) + val_II + val_III + float(val_IV) + val_V)/5)\n",
        "\n",
        "\n",
        "\n",
        "\n",
        "\n",
        "\n"
      ],
      "execution_count": null,
      "outputs": [
        {
          "output_type": "stream",
          "name": "stdout",
          "text": [
            "26.78\n"
          ]
        }
      ]
    },
    {
      "cell_type": "markdown",
      "metadata": {
        "id": "rdTGKNQ99MNp"
      },
      "source": [
        "7.)\n",
        "\n",
        "You buy a sofa and an armchair, their prices are given as variables. These prices do not inlude the 20% VAT.\n",
        "\n",
        "You pay for these pieces of furniture over 12 months. \n",
        "\n",
        "Find the total amount of money you must pay each month, including VAT."
      ]
    },
    {
      "cell_type": "code",
      "metadata": {
        "id": "cmytb9r8-LvD",
        "colab": {
          "base_uri": "https://localhost:8080/"
        },
        "outputId": "dbae4bef-8258-4e60-d118-5c980ba2394f"
      },
      "source": [
        "sofa_price = \"650.00\"       #Casting is also a good idea in this question.\n",
        "armchair_price = \"250.00\"\n",
        "\n",
        "print ((float(sofa_price) * 1.2 + float(armchair_price)*1.2)/12)\n",
        "\n",
        "\n",
        "\n"
      ],
      "execution_count": null,
      "outputs": [
        {
          "output_type": "stream",
          "name": "stdout",
          "text": [
            "90.0\n"
          ]
        }
      ]
    },
    {
      "cell_type": "markdown",
      "metadata": {
        "id": "vYJl1RiQBwTB"
      },
      "source": [
        "**ExCode is run by X-AI and Entrepeneurs Society**\n",
        "\n",
        "---\n",
        "[X-AI Facebook](https://www.facebook.com/exeAI)\n",
        "\n",
        "[X-AI Sign Up](https://fixr.co/organiser/83306494)\n",
        "\n",
        "---\n",
        "[Entrepeneurs Society Facebook](https://www.facebook.com/ExeterEntrepreneurs)\n",
        "\n",
        "[Entrepeneurs Society Guild Page](https://www.exeterguild.org/societies/exeterentrepreneurs/)\n",
        "\n",
        "---"
      ]
    }
  ]
}